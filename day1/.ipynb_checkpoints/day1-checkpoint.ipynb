{
 "cells": [
  {
   "cell_type": "code",
   "execution_count": null,
   "metadata": {
    "scrolled": true
   },
   "outputs": [
    {
     "name": "stdout",
     "output_type": "stream",
     "text": [
      "请输入你想查询的城市:武汉\n",
      "5日星期四, 多云, 东北风, 高温 31℃, 低温 21℃\n",
      "请输入你想查询的城市:阿克苏\n",
      "5日星期四, 小雨, 无持续风向, 高温 26℃, 低温 17℃\n"
     ]
    }
   ],
   "source": [
    "import requests\n",
    "while True:\n",
    "    city = input('请输入你想查询的城市:')\n",
    "    r = requests.get('http://wthrcdn.etouch.cn/weather_mini?city=%s' % city)\n",
    "    response = r.json()\n",
    "    code = response.get('status')\n",
    "    if code == 1000:\n",
    "        forecast = response['data']['forecast']\n",
    "        info = forecast[0]\n",
    "        print('%s, %s, %s, %s, %s' % (info['date'], info['type'], info['fengxiang'], info['high'], info['low']))\n",
    "    else:\n",
    "        if code == 1002:\n",
    "            print('输入城市名有误')\n",
    "        else:\n",
    "            print(response.get('desc'), defalut='请求接口失败')"
   ]
  },
  {
   "cell_type": "code",
   "execution_count": null,
   "metadata": {},
   "outputs": [],
   "source": []
  }
 ],
 "metadata": {
  "kernelspec": {
   "display_name": "Python 3",
   "language": "python",
   "name": "python3"
  },
  "language_info": {
   "codemirror_mode": {
    "name": "ipython",
    "version": 3
   },
   "file_extension": ".py",
   "mimetype": "text/x-python",
   "name": "python",
   "nbconvert_exporter": "python",
   "pygments_lexer": "ipython3",
   "version": "3.7.3"
  }
 },
 "nbformat": 4,
 "nbformat_minor": 2
}
