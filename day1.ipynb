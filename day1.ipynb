{
 "cells": [
  {
   "cell_type": "code",
   "execution_count": null,
   "metadata": {},
   "outputs": [
    {
     "name": "stdout",
     "output_type": "stream",
     "text": [
      "请输入你想查询的城市:北京\n",
      "26日星期一, 多云, 西南风, 高温 29℃, 低温 19℃\n"
     ]
    }
   ],
   "source": [
    "import requests\n",
    "# r = requests.get('http://wthrcdn.etouch.cn/weather_mini?city=北京')\n",
    "# print(r.json())\n",
    "while True:\n",
    "    city = input('请输入你想查询的城市:')\n",
    "    r = requests.get('http://wthrcdn.etouch.cn/weather_mini?city=%s' % city)\n",
    "#     print(r.json())\n",
    "    response = r.json()\n",
    "    code = response.get('status')\n",
    "    if code == 1000:\n",
    "        forecast = response['data']['forecast']\n",
    "        info = forecast[0]\n",
    "#         print('今天是', info['date'], info['type'], info['fengxiang'], info['high'], info['low'])\n",
    "        print('%s, %s, %s, %s, %s' % (info['date'], info['type'], info['fengxiang'], info['high'], info['low']))\n",
    "    else:\n",
    "        if code == 1002:\n",
    "            print('输入城市名有误')\n",
    "        else:\n",
    "            print(response.get('desc'), defalut='请求接口失败')\n",
    "    "
   ]
  },
  {
   "cell_type": "code",
   "execution_count": null,
   "metadata": {},
   "outputs": [],
   "source": []
  }
 ],
 "metadata": {
  "kernelspec": {
   "display_name": "Python 3",
   "language": "python",
   "name": "python3"
  }
 },
 "nbformat": 4,
 "nbformat_minor": 2
}
