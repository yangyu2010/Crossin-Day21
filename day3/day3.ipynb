{
 "cells": [
  {
   "cell_type": "code",
   "execution_count": 8,
   "metadata": {},
   "outputs": [],
   "source": [
    "import requests\n",
    "\n",
    "cookie = 'SINAGLOBAL=3929938814906.009.1537251143779; UOR=,,www.runningcheese.com; ULV=1553154341367:2:1:1:5034555042068.394.1553154341342:1537251143846; Ugrow-G0=140ad66ad7317901fc818d7fd7743564; SUB=_2AkMqOuqDf8NxqwJRmP0cz2PiZI12ygzEieKcZhtYJRMxHRl-yT83qlc4tRB6AbrEbAgGdigtbYhrlSTL06fRqOpMlDgQ; SUBP=0033WrSXqPxfM72-Ws9jqgMF55529P9D9WWRpH71Leh6aR.rAFUqc4PL; YF-V5-G0=7e17aef9f70cd5c32099644f32a261c4; WBStorage=f54cf4e4362237da|undefined'\n",
    "agent = 'Mozilla/5.0 (Macintosh; Intel Mac OS X 10_14_4) AppleWebKit/537.36 (KHTML, like Gecko) Chrome/76.0.3809.100 Safari/537.36'\n",
    "\n",
    "headers = {'cookie': cookie, 'User-Agent': agent}\n",
    "re = requests.get('https://weibo.com/a/hot/realtime', headers=headers)\n",
    "with open('weibo.html', 'w') as f:\n",
    "    f.write(re.text)"
   ]
  }
 ],
 "metadata": {
  "kernelspec": {
   "display_name": "Python 3",
   "language": "python",
   "name": "python3"
  },
  "language_info": {
   "codemirror_mode": {
    "name": "ipython",
    "version": 3
   },
   "file_extension": ".py",
   "mimetype": "text/x-python",
   "name": "python",
   "nbconvert_exporter": "python",
   "pygments_lexer": "ipython3",
   "version": "3.7.3"
  }
 },
 "nbformat": 4,
 "nbformat_minor": 2
}
