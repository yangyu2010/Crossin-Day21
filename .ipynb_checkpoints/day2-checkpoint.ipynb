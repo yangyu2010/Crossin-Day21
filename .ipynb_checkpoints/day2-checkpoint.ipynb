{
 "cells": [
  {
   "cell_type": "code",
   "execution_count": 4,
   "metadata": {
    "scrolled": true
   },
   "outputs": [
    {
     "name": "stdout",
     "output_type": "stream",
     "text": [
      "{\"name\": \"tbrown\", \"username\": \"Tom Brown\"}\n",
      "<__main__.User object at 0x10a82a128>\n"
     ]
    }
   ],
   "source": [
    "import json\n",
    "\n",
    "class User:\n",
    "    def __init__(self, name, username):\n",
    "        self.name = name\n",
    "        self.username = username\n",
    "\n",
    "    def to_json(self):\n",
    "        return json.dumps(self.__dict__)\n",
    "\n",
    "    @classmethod\n",
    "    def from_json(cls, json_str):\n",
    "        json_dict = json.loads(json_str)\n",
    "        return cls(**json_dict)\n",
    "\n",
    "# example usage\n",
    "js = User(\"tbrown\", \"Tom Brown\").to_json()\n",
    "user = User.from_json(js)\n",
    "print(user.name, user.username)\n",
    "\n",
    "# print(User(\"tbrown\", \"Tom Brown\").to_json())\n",
    "# print(User.from_json(User(\"tbrown\", \"Tom Brown\").to_json()))\n",
    "# User.from_json(User(\"tbrown\", \"Tom Brown\").to_json()).to_json()"
   ]
  },
  {
   "cell_type": "code",
   "execution_count": 2,
   "metadata": {},
   "outputs": [],
   "source": [
    "import requests\n",
    "import csv\n",
    "import os\n",
    "\n",
    "CURRENT_FILE_PATH = os.path.dirname(os.path.abspath('__file__')) + '/' + 'day2_source' \n",
    "CSV_FILE_PATH = CURRENT_FILE_PATH + '/' + 'douban_top250.csv'\n",
    "IMAGE_FILE_PATH = CURRENT_FILE_PATH\n",
    "# 250\n",
    "MAX_PAGE = 20\n",
    "\n",
    "\n",
    "# csv文件先写入默认行\n",
    "def configDefaultCSVFile():\n",
    "    with open(CSV_FILE_PATH,\"w\") as csvfile: \n",
    "        writer = csv.writer(csvfile)\n",
    "        #先写入columns_name\n",
    "        writer.writerow(['排名', \"id\", \"电影名\", \"评分\", '主演', '封面'])\n",
    "\n",
    "# 将数据写入csv\n",
    "def saveDataToCSV(moive_info: [], rank: int):\n",
    "    moive_info.insert(0, rank)\n",
    "    with open(CSV_FILE_PATH,\"a+\") as csvfile:\n",
    "        writer = csv.writer(csvfile)\n",
    "        writer.writerow(moive_info)\n",
    "        \n",
    "# 把封面图写入本地\n",
    "def saveImageToLocal(info: [], rank: int):\n",
    "    file_name = '%s-%s.jpg' % (rank, info[0])\n",
    "    file_url = info[4][:-3] + 'jpg'\n",
    "    file_path = IMAGE_FILE_PATH + '/' + file_name\n",
    "    ir = requests.get(file_url, stream=True)\n",
    "    if ir.status_code == 200:\n",
    "        with open(file_path, 'wb') as f:\n",
    "            for chunk in ir:\n",
    "                f.write(chunk)\n",
    "    \n",
    "# 从某一个rank开始获取数据\n",
    "def getData(rank: int):\n",
    "    request = requests.get('https://api.douban.com/v2/movie/top250?apikey=0df993c66c0c636e29ecbb5344252a4a&start=%s' % rank)\n",
    "    response = request.json()\n",
    "    return response.get('subjects')\n",
    "\n",
    "# 从一个电影dict读取想要的信息\n",
    "def readDataFrom(movie: dict):\n",
    "    id_str = movie.get('id')\n",
    "    title = movie.get('title')\n",
    "    average = movie.get('rating').get('average')\n",
    "    casts = ''\n",
    "    arr_casts = movie.get('casts')\n",
    "    for cast in arr_casts:\n",
    "        casts += cast.get('name')\n",
    "        casts += ', '\n",
    "    casts = casts[:-2]\n",
    "    image = movie.get('images').get('small')\n",
    "    return [id_str, title, average, casts, image]\n",
    "\n",
    "# 开始获取数据\n",
    "def startRead():\n",
    "    RANK = 0\n",
    "    while RANK < MAX_PAGE:\n",
    "        arr_movies = getData(RANK)\n",
    "        if not arr_movies:\n",
    "            print('请求接口失败')\n",
    "            return\n",
    "        #遍历当前20个电影中的每一个\n",
    "        for movie_info in arr_movies:\n",
    "            info_list = readDataFrom(movie_info)\n",
    "            RANK += 1       \n",
    "            saveImageToLocal(info_list, RANK)\n",
    "            saveDataToCSV(info_list, RANK)\n",
    "            \n",
    "configDefaultCSVFile()\n",
    "startRead()"
   ]
  }
 ],
 "metadata": {
  "kernelspec": {
   "display_name": "Python 3",
   "language": "python",
   "name": "python3"
  },
  "language_info": {
   "codemirror_mode": {
    "name": "ipython",
    "version": 3
   },
   "file_extension": ".py",
   "mimetype": "text/x-python",
   "name": "python",
   "nbconvert_exporter": "python",
   "pygments_lexer": "ipython3",
   "version": "3.7.3"
  }
 },
 "nbformat": 4,
 "nbformat_minor": 2
}
